{
 "cells": [
  {
   "cell_type": "code",
   "execution_count": 15,
   "id": "14e915b1",
   "metadata": {},
   "outputs": [
    {
     "name": "stdout",
     "output_type": "stream",
     "text": [
      "After capitalizing the person element: ['Mozzarella', 'Cinderella', 'Salmonella']\n",
      "After making the cheesy element uppercase: ['Mozzarella', 'Cinderella', 'Salmonella']\n",
      "After deleting the disease element: ['Mozzarella', 'Cinderella']\n"
     ]
    }
   ],
   "source": [
    "# 7.4 Make a list called things with these three strings as elements: \"mozzarella\", \"cinderella\", \"salmonella\".\n",
    "things = [\"mozzarella\", \"cinderella\", \"salmonella\"]\n",
    "\n",
    "# 7.5 Capitalize the element in things that refers to a person and then print the list. Did it change the element in the list?\n",
    "for i in range(len(things)):\n",
    "    if \"ella\" in things[i]:\n",
    "        things[i] = things[i].capitalize()\n",
    "print(\"After capitalizing the person element:\", things)\n",
    "\n",
    "# 7.6 Make the cheesy element of things all uppercase and then print the list.\n",
    "if \"mozzarella\" in things:\n",
    "    things[things.index(\"mozzarella\")] = things[things.index(\"mozzarella\")].upper()\n",
    "print(\"After making the cheesy element uppercase:\", things)\n",
    "\n",
    "# 7.7 Delete the disease element from things and print the list.\n",
    "disease_element = \"salmonella\"\n",
    "if disease_element.lower() in map(str.lower, things):\n",
    "    things.remove(next(item for item in things if item.lower() == disease_element.lower()))\n",
    "    print(\"After deleting the disease element:\", things)\n",
    "else:\n",
    "    print(\"The disease element is not in the list.\")"
   ]
  },
  {
   "cell_type": "code",
   "execution_count": 17,
   "id": "bb079a26",
   "metadata": {},
   "outputs": [
    {
     "name": "stdout",
     "output_type": "stream",
     "text": [
      "['Harry', 'Ron', 'Hermione']\n"
     ]
    }
   ],
   "source": [
    "# 9.1 Define a function called good() that returns the following list: ['Harry', 'Ron', 'Hermione'].\n",
    "def good():\n",
    "    return ['Harry', 'Ron', 'Hermione']\n",
    "\n",
    "# Example usage:\n",
    "result_good = good()\n",
    "print(result_good)"
   ]
  },
  {
   "cell_type": "code",
   "execution_count": 24,
   "id": "7f155541",
   "metadata": {},
   "outputs": [
    {
     "name": "stdout",
     "output_type": "stream",
     "text": [
      "3\n"
     ]
    }
   ],
   "source": [
    "# 9.2 Define a generator function called get_odds() that returns the odd numbers from range(10).\n",
    "import random\n",
    "\n",
    "# Define a generator function called get_random_odd() that returns a random odd number.\n",
    "def get_random_odd():\n",
    "    return random.choice([number for number in range(1, 10, 2)])\n",
    "\n",
    "# Use a for loop to find and print the third value returned by get_random_odd().\n",
    "for _ in range(3):\n",
    "    result_random_odd = get_random_odd()\n",
    "print(result_random_odd)"
   ]
  }
 ],
 "metadata": {
  "kernelspec": {
   "display_name": "Python 3 (ipykernel)",
   "language": "python",
   "name": "python3"
  },
  "language_info": {
   "codemirror_mode": {
    "name": "ipython",
    "version": 3
   },
   "file_extension": ".py",
   "mimetype": "text/x-python",
   "name": "python",
   "nbconvert_exporter": "python",
   "pygments_lexer": "ipython3",
   "version": "3.11.5"
  }
 },
 "nbformat": 4,
 "nbformat_minor": 5
}
